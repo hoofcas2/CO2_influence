{
 "cells": [
  {
   "cell_type": "markdown",
   "metadata": {},
   "source": [
    "##  Co2 Emission Estimates and GDP"
   ]
  },
  {
   "cell_type": "markdown",
   "metadata": {},
   "source": [
    "# Data read & Preprocessing"
   ]
  },
  {
   "cell_type": "markdown",
   "metadata": {},
   "source": [
    "## Import, Initialization"
   ]
  },
  {
   "cell_type": "code",
   "execution_count": 1,
   "metadata": {},
   "outputs": [],
   "source": [
    "import pandas as pd\n",
    "import numpy as np\n",
    "import matplotlib.pyplot as plt\n",
    "from numpy import dot\n",
    "from numpy.linalg import norm\n",
    "import warnings\n",
    "warnings.filterwarnings(action='ignore')\n",
    "%matplotlib inline"
   ]
  },
  {
   "cell_type": "code",
   "execution_count": 2,
   "metadata": {},
   "outputs": [],
   "source": [
    "gdp = pd.read_csv('SYB63_230_202009_GDP and GDP Per Capita.csv')\n",
    "co2 = pd.read_csv('SYB63_310_202009_Carbon Dioxide Emission Estimates.csv')"
   ]
  },
  {
   "cell_type": "markdown",
   "metadata": {},
   "source": [
    "## Functions"
   ]
  },
  {
   "cell_type": "markdown",
   "metadata": {},
   "source": [
    "### preprocessing() : 분석에 필요 없는 행과 열 제거"
   ]
  },
  {
   "cell_type": "code",
   "execution_count": 3,
   "metadata": {},
   "outputs": [],
   "source": [
    "def preprocessing(df):\n",
    "    df.columns =df.loc[0]\n",
    "    df.rename(columns = {df.columns[1] : 'country'}, inplace = True)\n",
    "    df = df.drop([0])\n",
    "    df = df.drop(['Region/Country/Area','Footnotes','Source'],axis=1)\n",
    "    return df"
   ]
  },
  {
   "cell_type": "code",
   "execution_count": 4,
   "metadata": {},
   "outputs": [],
   "source": [
    "gdp = preprocessing(gdp)\n",
    "co2 = preprocessing(co2)"
   ]
  },
  {
   "cell_type": "markdown",
   "metadata": {},
   "source": [
    "### split_df() : Series 특성에 의한 데이터 분류 + 변수 할당 저장"
   ]
  },
  {
   "cell_type": "code",
   "execution_count": 5,
   "metadata": {
    "scrolled": true
   },
   "outputs": [
    {
     "name": "stdout",
     "output_type": "stream",
     "text": [
      "변수 생성 개수 4\n",
      "gdp_특성 ['GDP in current prices (millions of US dollars)', 'GDP per capita (US dollars)', 'GDP in constant 2010 prices (millions of US dollars)', 'GDP real rates of growth (percent)']\n",
      "\n",
      "변수 생성 개수 2\n",
      "co2_특성 ['Emissions (thousand metric tons of carbon dioxide)', 'Emissions per capita (metric tons of carbon dioxide)']\n",
      "\n"
     ]
    }
   ],
   "source": [
    "def split_df(df,df_name):\n",
    "    key = df['Series'].unique()\n",
    "    key = list(key)\n",
    "    print('변수 생성 개수',len(key))\n",
    "    print('%s특성'%df_name,key)\n",
    "    print()\n",
    "    for i,v in enumerate(key):\n",
    "        globals()['%s%d'%(df_name,i)] = df[df['Series']== v]\n",
    "    \n",
    "    return key\n",
    "        \n",
    "        \n",
    "gdp_ = 'gdp_'\n",
    "co2_ = 'co2_'\n",
    "gdp_key = split_df(gdp,gdp_)\n",
    "co2_key = split_df(co2,co2_)"
   ]
  },
  {
   "cell_type": "code",
   "execution_count": 6,
   "metadata": {},
   "outputs": [
    {
     "data": {
      "text/plain": [
       "(1662, 1662, 1662, 1658, 1066, 1066)"
      ]
     },
     "execution_count": 6,
     "metadata": {},
     "output_type": "execute_result"
    }
   ],
   "source": [
    "len(gdp_0),len(gdp_1),len(gdp_2),len(gdp_3),len(co2_0),len(co2_1)"
   ]
  },
  {
   "cell_type": "markdown",
   "metadata": {},
   "source": [
    "### data() : 년(공통적으로 존재하는)도 별로 분류"
   ]
  },
  {
   "cell_type": "code",
   "execution_count": 7,
   "metadata": {},
   "outputs": [],
   "source": [
    "def data(dataframe):\n",
    "    a = dataframe.loc[dataframe['Year']=='2005']\n",
    "    b = dataframe.loc[dataframe['Year']=='2010']\n",
    "    c = dataframe.loc[dataframe['Year']=='2015']\n",
    "    d = dataframe.loc[dataframe['Year']=='2017']\n",
    "    return a,b,c,d,pd.concat([a,b,c,d])\n",
    "\n",
    "a0,b0,c0,d0,gdp_0 = data(gdp_0) \n",
    "a1,b1,c1,d1,gdp_1 = data(gdp_1)\n",
    "a2,b2,c2,d2,gdp_2 = data(gdp_2)\n",
    "a3,b3,c3,d3,gdp_3 = data(gdp_3)\n",
    "a00,b00,c00,d00,co2_0 = data(co2_0)\n",
    "a11,b11,c11,d11,co2_1 = data(co2_1)\n",
    "GDP = [a0,b0,c0,d0,a1,b1,c1,d1,a2,b2,c2,d2,a3,b3,c3,d3]\n",
    "CO2 = [a00,b00,c00,d00,a11,b11,c11,d11]"
   ]
  },
  {
   "cell_type": "markdown",
   "metadata": {},
   "source": [
    "### graph() : 년도 별 분류된 데이터 시각화"
   ]
  },
  {
   "cell_type": "code",
   "execution_count": 8,
   "metadata": {},
   "outputs": [],
   "source": [
    "def graph(a,b,c,d,ss):\n",
    "    s = 'country'\n",
    "    x1 = a['%s'%s]\n",
    "    y1 = a['Value']\n",
    "    x2 = b['%s'%s]\n",
    "    y2 = b['Value']\n",
    "    x3 = c['%s'%s]\n",
    "    y3 = c['Value']\n",
    "    x4 = d['%s'%s]\n",
    "    y4 = d['Value']\n",
    "  \n",
    "    plt.figure(figsize=(30,25))\n",
    "    plt.subplots_adjust(hspace=1)\n",
    "    plt.suptitle('%s'%ss,fontsize=40)\n",
    "    ##\n",
    "    plt.subplot(5,1,1)\n",
    "    line1 = plt.plot(x1,y1,label='2005')\n",
    "    plt.setp(line1, color='r', linewidth=3.0)\n",
    "    plt.xticks(rotation=90)\n",
    "    plt.yticks(rotation=0)\n",
    "    plt.title('%s'%a['Series'].iloc[0],fontsize=25)\n",
    "    plt.legend(fontsize=20)\n",
    "    ##\n",
    "    plt.subplot(5,1,2)\n",
    "    line2 = plt.plot(x2,y2,label='2010')\n",
    "    plt.setp(line2, color='g', linewidth=3.0)\n",
    "    plt.xticks(rotation=90)\n",
    "    plt.yticks(rotation=0)\n",
    "    plt.title('%s'%b['Series'].iloc[0],fontsize=25)\n",
    "    plt.legend(fontsize=20)\n",
    "    ##\n",
    "    plt.subplot(5,1,3)\n",
    "    line3 = plt.plot(x3,y3,label='2015')\n",
    "    plt.setp(line3, color='b', linewidth=3.0)\n",
    "    plt.xticks(rotation=90)\n",
    "    plt.yticks(rotation=0)\n",
    "    plt.title('%s'%c['Series'].iloc[0],fontsize=25)\n",
    "    plt.legend(fontsize=20)\n",
    "    ##\n",
    "    plt.subplot(5,1,4)\n",
    "    line4 = plt.plot(x4,y4,label='2017')\n",
    "    plt.setp(line4, color='y', linewidth=3.0)\n",
    "    plt.xticks(rotation=90)\n",
    "    plt.yticks(rotation=0)\n",
    "    plt.title('%s'%d['Series'].iloc[0],fontsize=25)\n",
    "    plt.legend(fontsize=20)\n",
    "    ##\n",
    "    plt.subplot(5,1,5)\n",
    "    plt.plot(x1,y1,'r',label='2005')\n",
    "    plt.plot(x2,y2,'g',label='2010')\n",
    "    plt.plot(x3,y3,'b',label='2015')\n",
    "    plt.plot(x4,y4,'y',label='2017')\n",
    "    plt.xticks(rotation=90)\n",
    "    plt.yticks(rotation=0)\n",
    "    plt.title('Total',fontsize=25)\n",
    "    plt.legend(fontsize=20)\n",
    "    plt.show()"
   ]
  },
  {
   "cell_type": "markdown",
   "metadata": {},
   "source": [
    "### country() : 각 데이터프레임의 국가(공통 되는)수를 맞추는 함수"
   ]
  },
  {
   "cell_type": "code",
   "execution_count": 9,
   "metadata": {},
   "outputs": [],
   "source": [
    "def country(df1,df2): \n",
    "    country = []\n",
    "    for i  in df1['country']:\n",
    "        for j in df2['country']:\n",
    "            if i==j:\n",
    "                country.append(i)\n",
    "                break\n",
    "    return country  "
   ]
  },
  {
   "cell_type": "markdown",
   "metadata": {},
   "source": [
    "### Standardization() 표준화 함수"
   ]
  },
  {
   "cell_type": "code",
   "execution_count": 10,
   "metadata": {},
   "outputs": [],
   "source": [
    "def Standardization(df):\n",
    "    df['Value'] = (df['Value'] - df['Value'].mean())/df['Value'].std()\n",
    "    return df['Value']"
   ]
  },
  {
   "cell_type": "markdown",
   "metadata": {},
   "source": [
    "### Normalization() 정규화 함수"
   ]
  },
  {
   "cell_type": "code",
   "execution_count": 11,
   "metadata": {},
   "outputs": [],
   "source": [
    "def Normalization(df):\n",
    "    df['Value'] = (df['Value'] - df['Value'].mean())/(df['Value'].max() - df['Value'].min())\n",
    "    return df['Value']"
   ]
  },
  {
   "cell_type": "markdown",
   "metadata": {},
   "source": [
    "### size_() : 총 데이터에서 최소공통 국가로 축소"
   ]
  },
  {
   "cell_type": "code",
   "execution_count": 12,
   "metadata": {},
   "outputs": [],
   "source": [
    "def size_(sizing, df):\n",
    "    return pd.merge(country,df,left_on='country',right_on='country')"
   ]
  },
  {
   "cell_type": "markdown",
   "metadata": {},
   "source": [
    "### cos_sim() : 코사인 유사도를 구하는 함수"
   ]
  },
  {
   "cell_type": "code",
   "execution_count": 13,
   "metadata": {},
   "outputs": [],
   "source": [
    "def cos_sim(A, B):\n",
    "       return dot(A, B)/(norm(A)*norm(B))"
   ]
  },
  {
   "cell_type": "markdown",
   "metadata": {},
   "source": [
    "### similarity() : 데이터 프레임 2개사이의 유사도를 구하는 함수\n",
    "\n",
    "=> 내부에서 코사인유사도 함수 호출"
   ]
  },
  {
   "cell_type": "code",
   "execution_count": 14,
   "metadata": {},
   "outputs": [],
   "source": [
    "def similarity(i,j):\n",
    "    result = pd.merge(i,j,left_on='country',right_on='country')\n",
    "    return cos_sim(result['Value_x'],result['Value_y'])"
   ]
  },
  {
   "cell_type": "markdown",
   "metadata": {},
   "source": [
    "### obtain함수 : 결론 도출 함수\n",
    "각 데이터 프레임마다 유사도를 구하고 분기별, 총합 유사도의 평균을 구한다"
   ]
  },
  {
   "cell_type": "code",
   "execution_count": 15,
   "metadata": {},
   "outputs": [],
   "source": [
    "def obtain(ds1,ds2):\n",
    "    sim_ = []\n",
    "    info_ = []\n",
    "    real_sim = []\n",
    "    for i,v in enumerate(ds1):\n",
    "        sim = []\n",
    "        for j,k in enumerate(ds2):\n",
    "                \n",
    "            sim.append(similarity(v,k))\n",
    "            sim_.append(similarity(v,k))\n",
    "            info_.append([similarity(v,k),i,j])\n",
    "\n",
    "            gdp_name = v['Series'].iloc[0]\n",
    "            co2_name = k['Series'].iloc[0]\n",
    "            gdp_year = v['Year'].iloc[0]\n",
    "            co2_year = k['Year'].iloc[0]\n",
    "            \n",
    "            if gdp_year == co2_year:\n",
    "                real_sim.append(similarity(v,k))\n",
    "            print( '%s --V.S-- %s'%(gdp_name,co2_name))\n",
    "            print(gdp_year,co2_year)\n",
    "            print(similarity(v,k),i,j)\n",
    "            print()\n",
    "        ####################\n",
    "        simil_mean = sum(sim)/len(sim)\n",
    "        print('-'*100)\n",
    "        print( '%s %s년 --V.S-- %s'%(gdp_name,gdp_year,co2_name))\n",
    "        print('평균값==>>',simil_mean)\n",
    "        print('-'*100,'\\n')\n",
    "        ####################\n",
    "    simil_mean = sum(sim_)/len(sim_)\n",
    "    print(simil_mean, 'co2와 internet usage 유사도 총합 평균')\n",
    "    return sim_,info_,real_sim"
   ]
  },
  {
   "cell_type": "markdown",
   "metadata": {},
   "source": [
    "### MaxSilmiarity : 결론 도출 함수\n",
    "\n",
    "=> 최고 유사도를 갖는 조합을 구하고 시각화"
   ]
  },
  {
   "cell_type": "code",
   "execution_count": 16,
   "metadata": {},
   "outputs": [],
   "source": [
    "def MaxSilmiarity(list1,list2,ds1,ds2):\n",
    "    \n",
    "    maxidx=0\n",
    "    for i in range(len(sim_)): # 유사도가 제일 높은 데이터 조합 index찾기\n",
    "        if max(sim_) == sim_[i]:\n",
    "            print('최고 유사도 index',i)\n",
    "            maxidx=i\n",
    "    print('sim_[%d] == max(sim_)'%maxidx)\n",
    "    print('해당 인덱스가 최고 유사도를 갖는지 확인 ',sim_[maxidx] == max(sim_))\n",
    "    ##################################\n",
    "    print(info_[maxidx])\n",
    "    first = info_[maxidx][1]\n",
    "    second = info_[maxidx][2]\n",
    "    ##################################\n",
    "    plt.figure(figsize=(15,15))\n",
    "    plt.plot(ds1[first]['country'],ds1[first]['Value'],'r')\n",
    "    plt.plot(ds2[second]['country'],ds2[second]['Value'],'b')\n",
    "    plt.xticks(rotation=90)\n",
    "    plt.yticks(rotation=0)\n",
    "    plt.title('Max similarity',fontsize=25)\n",
    "    plt.show()\n",
    "    "
   ]
  },
  {
   "cell_type": "markdown",
   "metadata": {},
   "source": [
    "## Programming"
   ]
  },
  {
   "cell_type": "markdown",
   "metadata": {},
   "source": [
    "### 정규화 or 표준화"
   ]
  },
  {
   "cell_type": "code",
   "execution_count": 17,
   "metadata": {},
   "outputs": [
    {
     "name": "stdout",
     "output_type": "stream",
     "text": [
      "정규화: n 표준화:s s\n"
     ]
    }
   ],
   "source": [
    "input_ = input(\"정규화: n 표준화:s \")\n",
    "i=0\n",
    "if input_ =='n':\n",
    "    while True:\n",
    "        if i <len(GDP):\n",
    "            GDP[i]['Value'] = GDP[i]['Value'].apply(pd.to_numeric)\n",
    "            GDP[i]['Value'] = Normalization(GDP[i])\n",
    "        if i < len(CO2):\n",
    "            CO2[i]['Value'] = CO2[i]['Value'].apply(pd.to_numeric)\n",
    "            CO2[i]['Value'] = Normalization(CO2[i])\n",
    "        if i >= len(GDP):\n",
    "            break\n",
    "        i+=1\n",
    "        \n",
    "elif input_ =='s':\n",
    "    while True:\n",
    "        if i <len(GDP):\n",
    "            GDP[i]['Value'] = GDP[i]['Value'].apply(pd.to_numeric)\n",
    "            GDP[i]['Value'] = Standardization(GDP[i])\n",
    "        if i < len(CO2):\n",
    "            CO2[i]['Value'] = CO2[i]['Value'].apply(pd.to_numeric)\n",
    "            CO2[i]['Value'] = Standardization(CO2[i])\n",
    "        if i >= len(GDP):\n",
    "            break\n",
    "        i+=1    \n",
    "        \n",
    "else:\n",
    "    print('다시 입력하세요')"
   ]
  },
  {
   "cell_type": "markdown",
   "metadata": {},
   "source": [
    "### FOR 문을 통해서 각 데이터별 비교하여 동일한 나라 개수 확인"
   ]
  },
  {
   "cell_type": "code",
   "execution_count": 18,
   "metadata": {},
   "outputs": [
    {
     "name": "stdout",
     "output_type": "stream",
     "text": [
      "[138, 138, 139, 139, 138, 138, 139, 139, 139, 139, 141, 141, 139, 139, 141, 141, 139, 139, 141, 141, 139, 139, 141, 141, 139, 139, 141, 141, 139, 139, 141, 141, 138, 138, 139, 139, 138, 138, 139, 139, 139, 139, 141, 141, 139, 139, 141, 141, 139, 139, 141, 141, 139, 139, 141, 141, 139, 139, 141, 141, 139, 139, 141, 141, 138, 138, 139, 139, 138, 138, 139, 139, 139, 139, 141, 141, 139, 139, 141, 141, 139, 139, 141, 141, 139, 139, 141, 141, 139, 139, 141, 141, 139, 139, 141, 141, 138, 138, 138, 138, 138, 138, 138, 138, 139, 139, 141, 141, 139, 139, 141, 141, 139, 139, 141, 141, 139, 139, 141, 141, 139, 139, 141, 141, 139, 139, 141, 141] "
     ]
    }
   ],
   "source": [
    "country_len = []\n",
    "countries = []\n",
    "idx = []\n",
    "for i,v in enumerate(GDP):\n",
    "    for j,k in enumerate(CO2):\n",
    "        countries_ = country(v,k) #변수에 비교값 나라명 데이터 저장\n",
    "        countries.append(country(v,k)) #배열에 나라명 데이터 저장 \n",
    "        country_len.append(len(countries_)) #각 길이데이터를 저장\n",
    "print(country_len,end=\" \")"
   ]
  },
  {
   "cell_type": "raw",
   "metadata": {},
   "source": [
    "총 GDP[] 16개, CO2[] 8개.\n",
    "각각의 조합을 구하여 결과를 가져오면 16*8 = 128개의 결과.\n",
    "각 조합에서 추출되는 공통 국가명들 => countries\n",
    "각 조합마다 추출되는 공통 국가명들의 개수 => country_len"
   ]
  },
  {
   "cell_type": "markdown",
   "metadata": {},
   "source": [
    "### 최소 공통국가 개수와 동일한 수를 갖는 조합의 인덱스 추출"
   ]
  },
  {
   "cell_type": "raw",
   "metadata": {},
   "source": [
    "ex) (a0 ~ d3 , a00 ~ d11) 모든 조합 검색 -> 128가지 경우\n",
    "\n",
    "최소 공통 국가 개수 138개 -> 0번째 조합 (a0, a00)의 최소공통 국가개수 138 -> 0번 인덱스 출력\n",
    "\n",
    "                             1번째 조합 (a0, b00)의 최소공통 국가개수 138 -> 1번 인덱스 출력\n",
    "                             \n",
    "                             2번째 조합 (a0, c00)의 최소공통 국가개수 160 -> 출력 X\n",
    "                             .\n",
    "                             .\n",
    "                             .\n",
    "                             127번째 조합 ..."
   ]
  },
  {
   "cell_type": "code",
   "execution_count": 19,
   "metadata": {},
   "outputs": [
    {
     "name": "stdout",
     "output_type": "stream",
     "text": [
      "최소 동일 개수 138\n",
      "최소 동일 개수를 같는 조합 인덱스  [0, 1, 4, 5, 32, 33, 36, 37, 64, 65, 68, 69, 96, 97, 98, 99, 100, 101, 102, 103]\n"
     ]
    }
   ],
   "source": [
    "min_idx = []\n",
    "for i in range(len(countries)):\n",
    "    if min(country_len) == country_len[i]:\n",
    "        min_idx.append(i)\n",
    "print('최소 동일 개수',min(country_len))\n",
    "print('최소 동일 개수를 같는 조합 인덱스 ',min_idx)"
   ]
  },
  {
   "cell_type": "markdown",
   "metadata": {},
   "source": [
    "###  최소 동일 개수를 갖는 순번의 배열마다 국가명 비교 "
   ]
  },
  {
   "cell_type": "raw",
   "metadata": {},
   "source": [
    "0번째 -> 알바니아,,,,한국 (138개)\n",
    "1번째 -> 알제리아,,,,한국 (138개)\n",
    "=> 최소 공통 국가개수는 같으나, 내용이 다를 경우를 대비하여 확인 작업"
   ]
  },
  {
   "cell_type": "code",
   "execution_count": 20,
   "metadata": {
    "scrolled": false
   },
   "outputs": [
    {
     "name": "stdout",
     "output_type": "stream",
     "text": [
      "0 1 , 1 4 , 4 5 , 5 32 , 32 33 , 33 36 , 36 37 , 37 64 , 64 65 , 65 68 , 68 69 , 69 96 , 96 97 , 97 98 , 98 99 , 99 100 , 100 101 , 101 102 , 102 103 , "
     ]
    }
   ],
   "source": [
    "for i in range(len(min_idx)-1):\n",
    "    if countries[min_idx[i]]==countries[min_idx[i+1]]:\n",
    "        print(min_idx[i],min_idx[i+1],end=\" , \")"
   ]
  },
  {
   "cell_type": "markdown",
   "metadata": {},
   "source": [
    "### 전체가 동일함을 확인후 하나의 데이터 선정 "
   ]
  },
  {
   "cell_type": "code",
   "execution_count": 21,
   "metadata": {},
   "outputs": [
    {
     "name": "stdout",
     "output_type": "stream",
     "text": [
      "해당 나라들을 기준으로 데이터 경량화 진행\n"
     ]
    },
    {
     "data": {
      "text/html": [
       "<div>\n",
       "<style scoped>\n",
       "    .dataframe tbody tr th:only-of-type {\n",
       "        vertical-align: middle;\n",
       "    }\n",
       "\n",
       "    .dataframe tbody tr th {\n",
       "        vertical-align: top;\n",
       "    }\n",
       "\n",
       "    .dataframe thead th {\n",
       "        text-align: right;\n",
       "    }\n",
       "</style>\n",
       "<table border=\"1\" class=\"dataframe\">\n",
       "  <thead>\n",
       "    <tr style=\"text-align: right;\">\n",
       "      <th></th>\n",
       "      <th>country</th>\n",
       "    </tr>\n",
       "  </thead>\n",
       "  <tbody>\n",
       "    <tr>\n",
       "      <th>0</th>\n",
       "      <td>Albania</td>\n",
       "    </tr>\n",
       "    <tr>\n",
       "      <th>1</th>\n",
       "      <td>Algeria</td>\n",
       "    </tr>\n",
       "    <tr>\n",
       "      <th>2</th>\n",
       "      <td>Angola</td>\n",
       "    </tr>\n",
       "    <tr>\n",
       "      <th>3</th>\n",
       "      <td>Argentina</td>\n",
       "    </tr>\n",
       "    <tr>\n",
       "      <th>4</th>\n",
       "      <td>Armenia</td>\n",
       "    </tr>\n",
       "    <tr>\n",
       "      <th>...</th>\n",
       "      <td>...</td>\n",
       "    </tr>\n",
       "    <tr>\n",
       "      <th>133</th>\n",
       "      <td>Venezuela (Boliv. Rep. of)</td>\n",
       "    </tr>\n",
       "    <tr>\n",
       "      <th>134</th>\n",
       "      <td>Viet Nam</td>\n",
       "    </tr>\n",
       "    <tr>\n",
       "      <th>135</th>\n",
       "      <td>Yemen</td>\n",
       "    </tr>\n",
       "    <tr>\n",
       "      <th>136</th>\n",
       "      <td>Zambia</td>\n",
       "    </tr>\n",
       "    <tr>\n",
       "      <th>137</th>\n",
       "      <td>Zimbabwe</td>\n",
       "    </tr>\n",
       "  </tbody>\n",
       "</table>\n",
       "<p>138 rows × 1 columns</p>\n",
       "</div>"
      ],
      "text/plain": [
       "                        country\n",
       "0                       Albania\n",
       "1                       Algeria\n",
       "2                        Angola\n",
       "3                     Argentina\n",
       "4                       Armenia\n",
       "..                          ...\n",
       "133  Venezuela (Boliv. Rep. of)\n",
       "134                    Viet Nam\n",
       "135                       Yemen\n",
       "136                      Zambia\n",
       "137                    Zimbabwe\n",
       "\n",
       "[138 rows x 1 columns]"
      ]
     },
     "execution_count": 21,
     "metadata": {},
     "output_type": "execute_result"
    }
   ],
   "source": [
    "print('해당 나라들을 기준으로 데이터 경량화 진행')\n",
    "country = countries[0]\n",
    "country = {'country':country}\n",
    "country = pd.DataFrame(country)\n",
    "country"
   ]
  },
  {
   "cell_type": "code",
   "execution_count": 22,
   "metadata": {},
   "outputs": [
    {
     "name": "stdout",
     "output_type": "stream",
     "text": [
      "경량화 전 242\n"
     ]
    }
   ],
   "source": [
    "print('경량화 전',len(a0))"
   ]
  },
  {
   "cell_type": "code",
   "execution_count": 23,
   "metadata": {},
   "outputs": [],
   "source": [
    "a0 = size_(country,a0)\n",
    "b0 = size_(country,b0)\n",
    "c0 = size_(country,c0)\n",
    "d0 = size_(country,d0)\n",
    "a1 = size_(country,a1)\n",
    "b1 = size_(country,b1)\n",
    "c1 = size_(country,c1)\n",
    "d1 = size_(country,d1)\n",
    "a2 = size_(country,a2)\n",
    "b2 = size_(country,b2)\n",
    "c2 = size_(country,c2)\n",
    "d2 = size_(country,d2)\n",
    "a3 = size_(country,a3)\n",
    "b3 = size_(country,b3)\n",
    "c3 = size_(country,c3)\n",
    "d3 = size_(country,d3)\n",
    "\n",
    "a00 = size_(country,a00)\n",
    "b00 = size_(country,b00)\n",
    "c00 = size_(country,c00)\n",
    "d00 = size_(country,d00)\n",
    "a11 = size_(country,a11)\n",
    "b11 = size_(country,b11)\n",
    "c11 = size_(country,c11)\n",
    "d11 = size_(country,d11)\n",
    "\n",
    "GDP = [a0,b0,c0,d0,a1,b1,c1,d1,a2,b2,c2,d2,a3,b3,c3,d3]\n",
    "CO2 = [a00,b00,c00,d00,a11,b11,c11,d11]"
   ]
  },
  {
   "cell_type": "code",
   "execution_count": 24,
   "metadata": {},
   "outputs": [
    {
     "name": "stdout",
     "output_type": "stream",
     "text": [
      "경량화 후 138\n"
     ]
    }
   ],
   "source": [
    "print('경량화 후',len(a0))"
   ]
  },
  {
   "cell_type": "markdown",
   "metadata": {},
   "source": [
    "# Visualization"
   ]
  },
  {
   "cell_type": "markdown",
   "metadata": {},
   "source": [
    "## gdp 그래프"
   ]
  },
  {
   "cell_type": "code",
   "execution_count": 25,
   "metadata": {},
   "outputs": [],
   "source": [
    "#graph(a0,b0,c0,d0,gdp_key[0]) "
   ]
  },
  {
   "cell_type": "code",
   "execution_count": 26,
   "metadata": {
    "scrolled": false
   },
   "outputs": [],
   "source": [
    "#graph(a1,b1,c1,d1,gdp_key[1]) "
   ]
  },
  {
   "cell_type": "code",
   "execution_count": 27,
   "metadata": {},
   "outputs": [],
   "source": [
    "#graph(a2,b2,c2,d2,gdp_key[2])"
   ]
  },
  {
   "cell_type": "code",
   "execution_count": 28,
   "metadata": {},
   "outputs": [],
   "source": [
    "#graph(a3,b3,c3,d3,gdp_key[3]) "
   ]
  },
  {
   "cell_type": "markdown",
   "metadata": {},
   "source": [
    "## Co2그래프"
   ]
  },
  {
   "cell_type": "code",
   "execution_count": 29,
   "metadata": {
    "scrolled": false
   },
   "outputs": [],
   "source": [
    "#graph(a00,b00,c00,d00,co2_key[0]) "
   ]
  },
  {
   "cell_type": "code",
   "execution_count": 30,
   "metadata": {
    "scrolled": false
   },
   "outputs": [],
   "source": [
    "#graph(a11,b11,c11,d11,co2_key[1]) "
   ]
  },
  {
   "cell_type": "markdown",
   "metadata": {},
   "source": [
    "# 관계 분석"
   ]
  },
  {
   "cell_type": "code",
   "execution_count": 31,
   "metadata": {
    "scrolled": false
   },
   "outputs": [
    {
     "name": "stdout",
     "output_type": "stream",
     "text": [
      "GDP in current prices (millions of US dollars) --V.S-- Emissions (thousand metric tons of carbon dioxide)\n",
      "2005 2005\n",
      "0.7488245529900913 0 0\n",
      "\n",
      "GDP in current prices (millions of US dollars) --V.S-- Emissions (thousand metric tons of carbon dioxide)\n",
      "2005 2010\n",
      "0.623407806756159 0 1\n",
      "\n",
      "GDP in current prices (millions of US dollars) --V.S-- Emissions (thousand metric tons of carbon dioxide)\n",
      "2005 2015\n",
      "0.5507128353719044 0 2\n",
      "\n",
      "GDP in current prices (millions of US dollars) --V.S-- Emissions (thousand metric tons of carbon dioxide)\n",
      "2005 2017\n",
      "0.5345595346697368 0 3\n",
      "\n",
      "GDP in current prices (millions of US dollars) --V.S-- Emissions per capita (metric tons of carbon dioxide)\n",
      "2005 2005\n",
      "0.24183415068468286 0 4\n",
      "\n",
      "GDP in current prices (millions of US dollars) --V.S-- Emissions per capita (metric tons of carbon dioxide)\n",
      "2005 2010\n",
      "0.2333463077826825 0 5\n",
      "\n",
      "GDP in current prices (millions of US dollars) --V.S-- Emissions per capita (metric tons of carbon dioxide)\n",
      "2005 2015\n",
      "0.2316325231951762 0 6\n",
      "\n",
      "GDP in current prices (millions of US dollars) --V.S-- Emissions per capita (metric tons of carbon dioxide)\n",
      "2005 2017\n",
      "0.2268047051286008 0 7\n",
      "\n",
      "----------------------------------------------------------------------------------------------------\n",
      "GDP in current prices (millions of US dollars) 2005년 --V.S-- Emissions per capita (metric tons of carbon dioxide)\n",
      "평균값==>> 0.42389030207237927\n",
      "---------------------------------------------------------------------------------------------------- \n",
      "\n",
      "GDP in current prices (millions of US dollars) --V.S-- Emissions (thousand metric tons of carbon dioxide)\n",
      "2010 2005\n",
      "0.8226618931686355 1 0\n",
      "\n",
      "GDP in current prices (millions of US dollars) --V.S-- Emissions (thousand metric tons of carbon dioxide)\n",
      "2010 2010\n",
      "0.7315330058902695 1 1\n",
      "\n",
      "GDP in current prices (millions of US dollars) --V.S-- Emissions (thousand metric tons of carbon dioxide)\n",
      "2010 2015\n",
      "0.6742502762279343 1 2\n",
      "\n",
      "GDP in current prices (millions of US dollars) --V.S-- Emissions (thousand metric tons of carbon dioxide)\n",
      "2010 2017\n",
      "0.6610747581413119 1 3\n",
      "\n",
      "GDP in current prices (millions of US dollars) --V.S-- Emissions per capita (metric tons of carbon dioxide)\n",
      "2010 2005\n",
      "0.22616118904896512 1 4\n",
      "\n",
      "GDP in current prices (millions of US dollars) --V.S-- Emissions per capita (metric tons of carbon dioxide)\n",
      "2010 2010\n",
      "0.22456441549779965 1 5\n",
      "\n",
      "GDP in current prices (millions of US dollars) --V.S-- Emissions per capita (metric tons of carbon dioxide)\n",
      "2010 2015\n",
      "0.23028022825818747 1 6\n",
      "\n",
      "GDP in current prices (millions of US dollars) --V.S-- Emissions per capita (metric tons of carbon dioxide)\n",
      "2010 2017\n",
      "0.22641552937093617 1 7\n",
      "\n",
      "----------------------------------------------------------------------------------------------------\n",
      "GDP in current prices (millions of US dollars) 2010년 --V.S-- Emissions per capita (metric tons of carbon dioxide)\n",
      "평균값==>> 0.4746176619505049\n",
      "---------------------------------------------------------------------------------------------------- \n",
      "\n",
      "GDP in current prices (millions of US dollars) --V.S-- Emissions (thousand metric tons of carbon dioxide)\n",
      "2015 2005\n",
      "0.891976588121813 2 0\n",
      "\n",
      "GDP in current prices (millions of US dollars) --V.S-- Emissions (thousand metric tons of carbon dioxide)\n",
      "2015 2010\n",
      "0.8286314334141002 2 1\n",
      "\n",
      "GDP in current prices (millions of US dollars) --V.S-- Emissions (thousand metric tons of carbon dioxide)\n",
      "2015 2015\n",
      "0.7818117168217382 2 2\n",
      "\n",
      "GDP in current prices (millions of US dollars) --V.S-- Emissions (thousand metric tons of carbon dioxide)\n",
      "2015 2017\n",
      "0.7705857272364269 2 3\n",
      "\n",
      "GDP in current prices (millions of US dollars) --V.S-- Emissions per capita (metric tons of carbon dioxide)\n",
      "2015 2005\n",
      "0.2026041130587392 2 4\n",
      "\n",
      "GDP in current prices (millions of US dollars) --V.S-- Emissions per capita (metric tons of carbon dioxide)\n",
      "2015 2010\n",
      "0.20562409383842561 2 5\n",
      "\n",
      "GDP in current prices (millions of US dollars) --V.S-- Emissions per capita (metric tons of carbon dioxide)\n",
      "2015 2015\n",
      "0.21331666254558634 2 6\n",
      "\n",
      "GDP in current prices (millions of US dollars) --V.S-- Emissions per capita (metric tons of carbon dioxide)\n",
      "2015 2017\n",
      "0.20978760309672043 2 7\n",
      "\n",
      "----------------------------------------------------------------------------------------------------\n",
      "GDP in current prices (millions of US dollars) 2015년 --V.S-- Emissions per capita (metric tons of carbon dioxide)\n",
      "평균값==>> 0.5130422422666937\n",
      "---------------------------------------------------------------------------------------------------- \n",
      "\n",
      "GDP in current prices (millions of US dollars) --V.S-- Emissions (thousand metric tons of carbon dioxide)\n",
      "2017 2005\n",
      "0.8961755279785591 3 0\n",
      "\n",
      "GDP in current prices (millions of US dollars) --V.S-- Emissions (thousand metric tons of carbon dioxide)\n",
      "2017 2010\n",
      "0.8355634211067567 3 1\n",
      "\n",
      "GDP in current prices (millions of US dollars) --V.S-- Emissions (thousand metric tons of carbon dioxide)\n",
      "2017 2015\n",
      "0.7902865789639489 3 2\n",
      "\n",
      "GDP in current prices (millions of US dollars) --V.S-- Emissions (thousand metric tons of carbon dioxide)\n",
      "2017 2017\n",
      "0.7794446827032305 3 3\n",
      "\n",
      "GDP in current prices (millions of US dollars) --V.S-- Emissions per capita (metric tons of carbon dioxide)\n",
      "2017 2005\n",
      "0.2006777744844709 3 4\n",
      "\n",
      "GDP in current prices (millions of US dollars) --V.S-- Emissions per capita (metric tons of carbon dioxide)\n",
      "2017 2010\n",
      "0.20432497634933916 3 5\n",
      "\n",
      "GDP in current prices (millions of US dollars) --V.S-- Emissions per capita (metric tons of carbon dioxide)\n",
      "2017 2015\n",
      "0.21279551879812414 3 6\n",
      "\n",
      "GDP in current prices (millions of US dollars) --V.S-- Emissions per capita (metric tons of carbon dioxide)\n",
      "2017 2017\n",
      "0.20962444430307706 3 7\n",
      "\n",
      "----------------------------------------------------------------------------------------------------\n",
      "GDP in current prices (millions of US dollars) 2017년 --V.S-- Emissions per capita (metric tons of carbon dioxide)\n",
      "평균값==>> 0.5161116155859384\n",
      "---------------------------------------------------------------------------------------------------- \n",
      "\n",
      "GDP per capita (US dollars) --V.S-- Emissions (thousand metric tons of carbon dioxide)\n",
      "2005 2005\n",
      "0.13575677650000897 4 0\n",
      "\n",
      "GDP per capita (US dollars) --V.S-- Emissions (thousand metric tons of carbon dioxide)\n",
      "2005 2010\n",
      "0.08603986074113618 4 1\n",
      "\n",
      "GDP per capita (US dollars) --V.S-- Emissions (thousand metric tons of carbon dioxide)\n",
      "2005 2015\n",
      "0.05828612422607275 4 2\n",
      "\n",
      "GDP per capita (US dollars) --V.S-- Emissions (thousand metric tons of carbon dioxide)\n",
      "2005 2017\n",
      "0.05222626796911646 4 3\n",
      "\n",
      "GDP per capita (US dollars) --V.S-- Emissions per capita (metric tons of carbon dioxide)\n",
      "2005 2005\n",
      "0.7009759557549774 4 4\n",
      "\n",
      "GDP per capita (US dollars) --V.S-- Emissions per capita (metric tons of carbon dioxide)\n",
      "2005 2010\n",
      "0.6601222345060274 4 5\n",
      "\n",
      "GDP per capita (US dollars) --V.S-- Emissions per capita (metric tons of carbon dioxide)\n",
      "2005 2015\n",
      "0.5965038811978902 4 6\n",
      "\n",
      "GDP per capita (US dollars) --V.S-- Emissions per capita (metric tons of carbon dioxide)\n",
      "2005 2017\n",
      "0.5970056960228357 4 7\n",
      "\n",
      "----------------------------------------------------------------------------------------------------\n",
      "GDP per capita (US dollars) 2005년 --V.S-- Emissions per capita (metric tons of carbon dioxide)\n",
      "평균값==>> 0.3608645996147581\n",
      "---------------------------------------------------------------------------------------------------- \n",
      "\n",
      "GDP per capita (US dollars) --V.S-- Emissions (thousand metric tons of carbon dioxide)\n",
      "2010 2005\n",
      "0.1259880346566526 5 0\n",
      "\n",
      "GDP per capita (US dollars) --V.S-- Emissions (thousand metric tons of carbon dioxide)\n",
      "2010 2010\n",
      "0.08086575101941622 5 1\n",
      "\n",
      "GDP per capita (US dollars) --V.S-- Emissions (thousand metric tons of carbon dioxide)\n",
      "2010 2015\n",
      "0.0556288801702552 5 2\n",
      "\n",
      "GDP per capita (US dollars) --V.S-- Emissions (thousand metric tons of carbon dioxide)\n",
      "2010 2017\n",
      "0.050067513575580466 5 3\n",
      "\n",
      "GDP per capita (US dollars) --V.S-- Emissions per capita (metric tons of carbon dioxide)\n",
      "2010 2005\n",
      "0.7059432423396754 5 4\n",
      "\n",
      "GDP per capita (US dollars) --V.S-- Emissions per capita (metric tons of carbon dioxide)\n",
      "2010 2010\n",
      "0.6765548178581186 5 5\n",
      "\n",
      "GDP per capita (US dollars) --V.S-- Emissions per capita (metric tons of carbon dioxide)\n",
      "2010 2015\n",
      "0.608921158088318 5 6\n",
      "\n",
      "GDP per capita (US dollars) --V.S-- Emissions per capita (metric tons of carbon dioxide)\n",
      "2010 2017\n",
      "0.6088146045792495 5 7\n",
      "\n",
      "----------------------------------------------------------------------------------------------------\n",
      "GDP per capita (US dollars) 2010년 --V.S-- Emissions per capita (metric tons of carbon dioxide)\n",
      "평균값==>> 0.3640980002859083\n",
      "---------------------------------------------------------------------------------------------------- \n",
      "\n",
      "GDP per capita (US dollars) --V.S-- Emissions (thousand metric tons of carbon dioxide)\n",
      "2015 2005\n",
      "0.15198711853756416 6 0\n",
      "\n",
      "GDP per capita (US dollars) --V.S-- Emissions (thousand metric tons of carbon dioxide)\n",
      "2015 2010\n",
      "0.10526670132235702 6 1\n",
      "\n",
      "GDP per capita (US dollars) --V.S-- Emissions (thousand metric tons of carbon dioxide)\n",
      "2015 2015\n",
      "0.07825230603286266 6 2\n",
      "\n",
      "GDP per capita (US dollars) --V.S-- Emissions (thousand metric tons of carbon dioxide)\n",
      "2015 2017\n",
      "0.07223854080842244 6 3\n",
      "\n",
      "GDP per capita (US dollars) --V.S-- Emissions per capita (metric tons of carbon dioxide)\n",
      "2015 2005\n",
      "0.6866570363895347 6 4\n",
      "\n"
     ]
    },
    {
     "name": "stdout",
     "output_type": "stream",
     "text": [
      "GDP per capita (US dollars) --V.S-- Emissions per capita (metric tons of carbon dioxide)\n",
      "2015 2010\n",
      "0.6555464960936216 6 5\n",
      "\n",
      "GDP per capita (US dollars) --V.S-- Emissions per capita (metric tons of carbon dioxide)\n",
      "2015 2015\n",
      "0.5941569019884955 6 6\n",
      "\n",
      "GDP per capita (US dollars) --V.S-- Emissions per capita (metric tons of carbon dioxide)\n",
      "2015 2017\n",
      "0.5941914225792843 6 7\n",
      "\n",
      "----------------------------------------------------------------------------------------------------\n",
      "GDP per capita (US dollars) 2015년 --V.S-- Emissions per capita (metric tons of carbon dioxide)\n",
      "평균값==>> 0.3672870654690178\n",
      "---------------------------------------------------------------------------------------------------- \n",
      "\n",
      "GDP per capita (US dollars) --V.S-- Emissions (thousand metric tons of carbon dioxide)\n",
      "2017 2005\n",
      "0.14981706863615254 7 0\n",
      "\n",
      "GDP per capita (US dollars) --V.S-- Emissions (thousand metric tons of carbon dioxide)\n",
      "2017 2010\n",
      "0.10369820794869314 7 1\n",
      "\n",
      "GDP per capita (US dollars) --V.S-- Emissions (thousand metric tons of carbon dioxide)\n",
      "2017 2015\n",
      "0.07718531574579084 7 2\n",
      "\n",
      "GDP per capita (US dollars) --V.S-- Emissions (thousand metric tons of carbon dioxide)\n",
      "2017 2017\n",
      "0.07137525171330449 7 3\n",
      "\n",
      "GDP per capita (US dollars) --V.S-- Emissions per capita (metric tons of carbon dioxide)\n",
      "2017 2005\n",
      "0.6701120219109904 7 4\n",
      "\n",
      "GDP per capita (US dollars) --V.S-- Emissions per capita (metric tons of carbon dioxide)\n",
      "2017 2010\n",
      "0.6375420709982488 7 5\n",
      "\n",
      "GDP per capita (US dollars) --V.S-- Emissions per capita (metric tons of carbon dioxide)\n",
      "2017 2015\n",
      "0.5758751470105578 7 6\n",
      "\n",
      "GDP per capita (US dollars) --V.S-- Emissions per capita (metric tons of carbon dioxide)\n",
      "2017 2017\n",
      "0.5772709893685104 7 7\n",
      "\n",
      "----------------------------------------------------------------------------------------------------\n",
      "GDP per capita (US dollars) 2017년 --V.S-- Emissions per capita (metric tons of carbon dioxide)\n",
      "평균값==>> 0.3578595091665311\n",
      "---------------------------------------------------------------------------------------------------- \n",
      "\n",
      "GDP in constant 2010 prices (millions of US dollars) --V.S-- Emissions (thousand metric tons of carbon dioxide)\n",
      "2005 2005\n",
      "0.8079751370752498 8 0\n",
      "\n",
      "GDP in constant 2010 prices (millions of US dollars) --V.S-- Emissions (thousand metric tons of carbon dioxide)\n",
      "2005 2010\n",
      "0.6972448946000374 8 1\n",
      "\n",
      "GDP in constant 2010 prices (millions of US dollars) --V.S-- Emissions (thousand metric tons of carbon dioxide)\n",
      "2005 2015\n",
      "0.6297951471761463 8 2\n",
      "\n",
      "GDP in constant 2010 prices (millions of US dollars) --V.S-- Emissions (thousand metric tons of carbon dioxide)\n",
      "2005 2017\n",
      "0.6145179566454011 8 3\n",
      "\n",
      "GDP in constant 2010 prices (millions of US dollars) --V.S-- Emissions per capita (metric tons of carbon dioxide)\n",
      "2005 2005\n",
      "0.23140005192374366 8 4\n",
      "\n",
      "GDP in constant 2010 prices (millions of US dollars) --V.S-- Emissions per capita (metric tons of carbon dioxide)\n",
      "2005 2010\n",
      "0.22642619490278978 8 5\n",
      "\n",
      "GDP in constant 2010 prices (millions of US dollars) --V.S-- Emissions per capita (metric tons of carbon dioxide)\n",
      "2005 2015\n",
      "0.22676913000338428 8 6\n",
      "\n",
      "GDP in constant 2010 prices (millions of US dollars) --V.S-- Emissions per capita (metric tons of carbon dioxide)\n",
      "2005 2017\n",
      "0.22194997062262295 8 7\n",
      "\n",
      "----------------------------------------------------------------------------------------------------\n",
      "GDP in constant 2010 prices (millions of US dollars) 2005년 --V.S-- Emissions per capita (metric tons of carbon dioxide)\n",
      "평균값==>> 0.457009810368672\n",
      "---------------------------------------------------------------------------------------------------- \n",
      "\n",
      "GDP in constant 2010 prices (millions of US dollars) --V.S-- Emissions (thousand metric tons of carbon dioxide)\n",
      "2010 2005\n",
      "0.8621390602957651 9 0\n",
      "\n",
      "GDP in constant 2010 prices (millions of US dollars) --V.S-- Emissions (thousand metric tons of carbon dioxide)\n",
      "2010 2010\n",
      "0.7780999588656012 9 1\n",
      "\n",
      "GDP in constant 2010 prices (millions of US dollars) --V.S-- Emissions (thousand metric tons of carbon dioxide)\n",
      "2010 2015\n",
      "0.7221527292836041 9 2\n",
      "\n",
      "GDP in constant 2010 prices (millions of US dollars) --V.S-- Emissions (thousand metric tons of carbon dioxide)\n",
      "2010 2017\n",
      "0.7090946492565767 9 3\n",
      "\n",
      "GDP in constant 2010 prices (millions of US dollars) --V.S-- Emissions per capita (metric tons of carbon dioxide)\n",
      "2010 2005\n",
      "0.21716093161866903 9 4\n",
      "\n",
      "GDP in constant 2010 prices (millions of US dollars) --V.S-- Emissions per capita (metric tons of carbon dioxide)\n",
      "2010 2010\n",
      "0.21685915622491417 9 5\n",
      "\n",
      "GDP in constant 2010 prices (millions of US dollars) --V.S-- Emissions per capita (metric tons of carbon dioxide)\n",
      "2010 2015\n",
      "0.22139061030722826 9 6\n",
      "\n",
      "GDP in constant 2010 prices (millions of US dollars) --V.S-- Emissions per capita (metric tons of carbon dioxide)\n",
      "2010 2017\n",
      "0.21726533603763565 9 7\n",
      "\n",
      "----------------------------------------------------------------------------------------------------\n",
      "GDP in constant 2010 prices (millions of US dollars) 2010년 --V.S-- Emissions per capita (metric tons of carbon dioxide)\n",
      "평균값==>> 0.49302030398624935\n",
      "---------------------------------------------------------------------------------------------------- \n",
      "\n",
      "GDP in constant 2010 prices (millions of US dollars) --V.S-- Emissions (thousand metric tons of carbon dioxide)\n",
      "2015 2005\n",
      "0.891976588121813 10 0\n",
      "\n",
      "GDP in constant 2010 prices (millions of US dollars) --V.S-- Emissions (thousand metric tons of carbon dioxide)\n",
      "2015 2010\n",
      "0.8286314334141002 10 1\n",
      "\n",
      "GDP in constant 2010 prices (millions of US dollars) --V.S-- Emissions (thousand metric tons of carbon dioxide)\n",
      "2015 2015\n",
      "0.7818117168217382 10 2\n",
      "\n",
      "GDP in constant 2010 prices (millions of US dollars) --V.S-- Emissions (thousand metric tons of carbon dioxide)\n",
      "2015 2017\n",
      "0.7705857272364269 10 3\n",
      "\n",
      "GDP in constant 2010 prices (millions of US dollars) --V.S-- Emissions per capita (metric tons of carbon dioxide)\n",
      "2015 2005\n",
      "0.2026041130587392 10 4\n",
      "\n",
      "GDP in constant 2010 prices (millions of US dollars) --V.S-- Emissions per capita (metric tons of carbon dioxide)\n",
      "2015 2010\n",
      "0.20562409383842561 10 5\n",
      "\n",
      "GDP in constant 2010 prices (millions of US dollars) --V.S-- Emissions per capita (metric tons of carbon dioxide)\n",
      "2015 2015\n",
      "0.21331666254558634 10 6\n",
      "\n",
      "GDP in constant 2010 prices (millions of US dollars) --V.S-- Emissions per capita (metric tons of carbon dioxide)\n",
      "2015 2017\n",
      "0.20978760309672043 10 7\n",
      "\n",
      "----------------------------------------------------------------------------------------------------\n",
      "GDP in constant 2010 prices (millions of US dollars) 2015년 --V.S-- Emissions per capita (metric tons of carbon dioxide)\n",
      "평균값==>> 0.5130422422666937\n",
      "---------------------------------------------------------------------------------------------------- \n",
      "\n",
      "GDP in constant 2010 prices (millions of US dollars) --V.S-- Emissions (thousand metric tons of carbon dioxide)\n",
      "2017 2005\n",
      "0.9008219116111975 11 0\n",
      "\n",
      "GDP in constant 2010 prices (millions of US dollars) --V.S-- Emissions (thousand metric tons of carbon dioxide)\n",
      "2017 2010\n",
      "0.8453481198686777 11 1\n",
      "\n",
      "GDP in constant 2010 prices (millions of US dollars) --V.S-- Emissions (thousand metric tons of carbon dioxide)\n",
      "2017 2015\n",
      "0.8021092186983729 11 2\n",
      "\n",
      "GDP in constant 2010 prices (millions of US dollars) --V.S-- Emissions (thousand metric tons of carbon dioxide)\n",
      "2017 2017\n",
      "0.7916598402004503 11 3\n",
      "\n",
      "GDP in constant 2010 prices (millions of US dollars) --V.S-- Emissions per capita (metric tons of carbon dioxide)\n",
      "2017 2005\n",
      "0.19662185714368416 11 4\n",
      "\n",
      "GDP in constant 2010 prices (millions of US dollars) --V.S-- Emissions per capita (metric tons of carbon dioxide)\n",
      "2017 2010\n",
      "0.20064545265703554 11 5\n",
      "\n",
      "GDP in constant 2010 prices (millions of US dollars) --V.S-- Emissions per capita (metric tons of carbon dioxide)\n",
      "2017 2015\n",
      "0.20922437451866996 11 6\n",
      "\n",
      "GDP in constant 2010 prices (millions of US dollars) --V.S-- Emissions per capita (metric tons of carbon dioxide)\n",
      "2017 2017\n",
      "0.2060314343535365 11 7\n",
      "\n",
      "----------------------------------------------------------------------------------------------------\n",
      "GDP in constant 2010 prices (millions of US dollars) 2017년 --V.S-- Emissions per capita (metric tons of carbon dioxide)\n",
      "평균값==>> 0.5190577761314531\n",
      "---------------------------------------------------------------------------------------------------- \n",
      "\n",
      "GDP real rates of growth (percent) --V.S-- Emissions (thousand metric tons of carbon dioxide)\n",
      "2005 2005\n"
     ]
    },
    {
     "name": "stdout",
     "output_type": "stream",
     "text": [
      "0.02227624606362057 12 0\n",
      "\n",
      "GDP real rates of growth (percent) --V.S-- Emissions (thousand metric tons of carbon dioxide)\n",
      "2005 2010\n",
      "0.06014002951512165 12 1\n",
      "\n",
      "GDP real rates of growth (percent) --V.S-- Emissions (thousand metric tons of carbon dioxide)\n",
      "2005 2015\n",
      "0.0786330593980122 12 2\n",
      "\n",
      "GDP real rates of growth (percent) --V.S-- Emissions (thousand metric tons of carbon dioxide)\n",
      "2005 2017\n",
      "0.08229497478124724 12 3\n",
      "\n",
      "GDP real rates of growth (percent) --V.S-- Emissions per capita (metric tons of carbon dioxide)\n",
      "2005 2005\n",
      "-0.03948000865713233 12 4\n",
      "\n",
      "GDP real rates of growth (percent) --V.S-- Emissions per capita (metric tons of carbon dioxide)\n",
      "2005 2010\n",
      "-0.035385104067766994 12 5\n",
      "\n",
      "GDP real rates of growth (percent) --V.S-- Emissions per capita (metric tons of carbon dioxide)\n",
      "2005 2015\n",
      "-0.00344460517040446 12 6\n",
      "\n",
      "GDP real rates of growth (percent) --V.S-- Emissions per capita (metric tons of carbon dioxide)\n",
      "2005 2017\n",
      "-0.007408425948971155 12 7\n",
      "\n",
      "----------------------------------------------------------------------------------------------------\n",
      "GDP real rates of growth (percent) 2005년 --V.S-- Emissions per capita (metric tons of carbon dioxide)\n",
      "평균값==>> 0.01970327073921584\n",
      "---------------------------------------------------------------------------------------------------- \n",
      "\n",
      "GDP real rates of growth (percent) --V.S-- Emissions (thousand metric tons of carbon dioxide)\n",
      "2010 2005\n",
      "0.05030860714092754 13 0\n",
      "\n",
      "GDP real rates of growth (percent) --V.S-- Emissions (thousand metric tons of carbon dioxide)\n",
      "2010 2010\n",
      "0.08598853466815687 13 1\n",
      "\n",
      "GDP real rates of growth (percent) --V.S-- Emissions (thousand metric tons of carbon dioxide)\n",
      "2010 2015\n",
      "0.1067145842985193 13 2\n",
      "\n",
      "GDP real rates of growth (percent) --V.S-- Emissions (thousand metric tons of carbon dioxide)\n",
      "2010 2017\n",
      "0.110829505198978 13 3\n",
      "\n",
      "GDP real rates of growth (percent) --V.S-- Emissions per capita (metric tons of carbon dioxide)\n",
      "2010 2005\n",
      "-0.1208533261928202 13 4\n",
      "\n",
      "GDP real rates of growth (percent) --V.S-- Emissions per capita (metric tons of carbon dioxide)\n",
      "2010 2010\n",
      "-0.11854205988170856 13 5\n",
      "\n",
      "GDP real rates of growth (percent) --V.S-- Emissions per capita (metric tons of carbon dioxide)\n",
      "2010 2015\n",
      "-0.07373937705136256 13 6\n",
      "\n",
      "GDP real rates of growth (percent) --V.S-- Emissions per capita (metric tons of carbon dioxide)\n",
      "2010 2017\n",
      "-0.07291325526881097 13 7\n",
      "\n",
      "----------------------------------------------------------------------------------------------------\n",
      "GDP real rates of growth (percent) 2010년 --V.S-- Emissions per capita (metric tons of carbon dioxide)\n",
      "평균값==>> -0.004025848386015067\n",
      "---------------------------------------------------------------------------------------------------- \n",
      "\n",
      "GDP real rates of growth (percent) --V.S-- Emissions (thousand metric tons of carbon dioxide)\n",
      "2015 2005\n",
      "0.026469753042641493 14 0\n",
      "\n",
      "GDP real rates of growth (percent) --V.S-- Emissions (thousand metric tons of carbon dioxide)\n",
      "2015 2010\n",
      "0.04088309967923848 14 1\n",
      "\n",
      "GDP real rates of growth (percent) --V.S-- Emissions (thousand metric tons of carbon dioxide)\n",
      "2015 2015\n",
      "0.05159654500156835 14 2\n",
      "\n",
      "GDP real rates of growth (percent) --V.S-- Emissions (thousand metric tons of carbon dioxide)\n",
      "2015 2017\n",
      "0.0548423033617193 14 3\n",
      "\n",
      "GDP real rates of growth (percent) --V.S-- Emissions per capita (metric tons of carbon dioxide)\n",
      "2015 2005\n",
      "-0.03153060888614628 14 4\n",
      "\n",
      "GDP real rates of growth (percent) --V.S-- Emissions per capita (metric tons of carbon dioxide)\n",
      "2015 2010\n",
      "-0.05056606525087973 14 5\n",
      "\n",
      "GDP real rates of growth (percent) --V.S-- Emissions per capita (metric tons of carbon dioxide)\n",
      "2015 2015\n",
      "-0.03089176102851942 14 6\n",
      "\n",
      "GDP real rates of growth (percent) --V.S-- Emissions per capita (metric tons of carbon dioxide)\n",
      "2015 2017\n",
      "-0.02451226987230599 14 7\n",
      "\n",
      "----------------------------------------------------------------------------------------------------\n",
      "GDP real rates of growth (percent) 2015년 --V.S-- Emissions per capita (metric tons of carbon dioxide)\n",
      "평균값==>> 0.004536374505914525\n",
      "---------------------------------------------------------------------------------------------------- \n",
      "\n",
      "GDP real rates of growth (percent) --V.S-- Emissions (thousand metric tons of carbon dioxide)\n",
      "2017 2005\n",
      "-0.0006322940083185993 15 0\n",
      "\n",
      "GDP real rates of growth (percent) --V.S-- Emissions (thousand metric tons of carbon dioxide)\n",
      "2017 2010\n",
      "0.012602036098932342 15 1\n",
      "\n",
      "GDP real rates of growth (percent) --V.S-- Emissions (thousand metric tons of carbon dioxide)\n",
      "2017 2015\n",
      "0.020545853918906565 15 2\n",
      "\n",
      "GDP real rates of growth (percent) --V.S-- Emissions (thousand metric tons of carbon dioxide)\n",
      "2017 2017\n",
      "0.023535649754352614 15 3\n",
      "\n",
      "GDP real rates of growth (percent) --V.S-- Emissions per capita (metric tons of carbon dioxide)\n",
      "2017 2005\n",
      "-0.08319202074965365 15 4\n",
      "\n",
      "GDP real rates of growth (percent) --V.S-- Emissions per capita (metric tons of carbon dioxide)\n",
      "2017 2010\n",
      "-0.081416521815304 15 5\n",
      "\n",
      "GDP real rates of growth (percent) --V.S-- Emissions per capita (metric tons of carbon dioxide)\n",
      "2017 2015\n",
      "-0.08161709851097666 15 6\n",
      "\n",
      "GDP real rates of growth (percent) --V.S-- Emissions per capita (metric tons of carbon dioxide)\n",
      "2017 2017\n",
      "-0.07379630776029467 15 7\n",
      "\n",
      "----------------------------------------------------------------------------------------------------\n",
      "GDP real rates of growth (percent) 2017년 --V.S-- Emissions per capita (metric tons of carbon dioxide)\n",
      "평균값==>> -0.032996337884044505\n",
      "---------------------------------------------------------------------------------------------------- \n",
      "\n",
      "0.3341949117587418 co2와 internet usage 유사도 총합 평균\n",
      "최고 유사도 index 88\n",
      "sim_[88] == max(sim_)\n",
      "해당 인덱스가 최고 유사도를 갖는지 확인  True\n",
      "[0.9008219116111975, 11, 0]\n"
     ]
    },
    {
     "data": {
      "image/png": "[encoded data removed]",
      "text/plain": [
       "<Figure size 1080x1080 with 1 Axes>"
      ]
     },
     "metadata": {
      "needs_background": "light"
     },
     "output_type": "display_data"
    }
   ],
   "source": [
    "sim_,info_,real_ = obtain(GDP,CO2)\n",
    "MaxSilmiarity(sim_,info_,GDP,CO2)"
   ]
  },
  {
   "cell_type": "markdown",
   "metadata": {},
   "source": [
    "# 결과"
   ]
  },
  {
   "cell_type": "markdown",
   "metadata": {},
   "source": [
    "## 같은 년도 별 유사도를 담은 real_ List"
   ]
  },
  {
   "cell_type": "code",
   "execution_count": 32,
   "metadata": {},
   "outputs": [
    {
     "data": {
      "text/plain": [
       "[0.7488245529900913,\n",
       " 0.24183415068468286,\n",
       " 0.7315330058902695,\n",
       " 0.22456441549779965,\n",
       " 0.7818117168217382]"
      ]
     },
     "execution_count": 32,
     "metadata": {},
     "output_type": "execute_result"
    }
   ],
   "source": [
    "real_[:5]"
   ]
  },
  {
   "cell_type": "markdown",
   "metadata": {},
   "source": [
    "## 같은 년도 유사도분석 총합 평균"
   ]
  },
  {
   "cell_type": "code",
   "execution_count": 33,
   "metadata": {},
   "outputs": [
    {
     "data": {
      "text/plain": [
       "0.33731259930759483"
      ]
     },
     "execution_count": 33,
     "metadata": {},
     "output_type": "execute_result"
    }
   ],
   "source": [
    "sum(real_)/len(real_)"
   ]
  },
  {
   "cell_type": "raw",
   "metadata": {},
   "source": [
    "코사인 유사도의 특성상 -1 ~ 1 사이의 값으로 표현되고, 같은 년도 유사도 총합 평균이 0.3 정도로 측정되었다.\n",
    "\n",
    "'+' 값의 유사도를 갖는 것으로 보아, GDP 수준의 높고 낮음이 CO2 방출에 영향이 전혀 무관하지 않음을 보았다."
   ]
  },
  {
   "cell_type": "markdown",
   "metadata": {},
   "source": [
    "##  Co2 Emission Estimates and Internet"
   ]
  },
  {
   "cell_type": "code",
   "execution_count": null,
   "metadata": {},
   "outputs": [],
   "source": [
    "co2 = pd.read_csv('SYB63_310_202009_Carbon Dioxide Emission Estimates.csv')\n",
    "co2_1 = co2[co2['Unnamed: 3']=='Emissions (thousand metric tons of carbon dioxide)']\n",
    "co2_2 = co2[co2['Unnamed: 3']=='Emissions per capita (metric tons of carbon dioxide)']\n",
    "use = pd.read_csv('SYB63_314_202009_Internet Usage.csv')"
   ]
  },
  {
   "cell_type": "code",
   "execution_count": null,
   "metadata": {},
   "outputs": [],
   "source": [
    "#2005,2010,2015,2017\n",
    "#x에는 국가나라, y는 수치\n",
    "def graph(a,b,c,d):\n",
    "    \n",
    "    s = a.columns[1]#'CO2 emission estimates'\n",
    "    x1 = a['%s'%s]\n",
    "    y1 = a['Unnamed: 4']\n",
    "    x2 = b['%s'%s]\n",
    "    y2 = b['Unnamed: 4']\n",
    "    x3 = c['%s'%s]\n",
    "    y3 = c['Unnamed: 4']\n",
    "    x4 = d['%s'%s]\n",
    "    y4 = d['Unnamed: 4']\n",
    "  \n",
    "    plt.figure(figsize=(10,10))\n",
    "    plt.subplot(2,2,1)\n",
    "    plt.plot(x1,y1)\n",
    "    plt.xticks(rotation=90)\n",
    "    plt.yticks(rotation=45)\n",
    "    plt.subplot(2,2,2)\n",
    "    plt.plot(x2,y2)\n",
    "    plt.xticks(rotation=90)\n",
    "    plt.yticks(rotation=45)\n",
    "    plt.subplot(2,2,3)\n",
    "    plt.plot(x3,y3)\n",
    "    plt.xticks(rotation=90)\n",
    "    plt.yticks(rotation=45)\n",
    "    plt.subplot(2,2,4)\n",
    "    plt.plot(x4,y4)\n",
    "    plt.xticks(rotation=90)\n",
    "    plt.yticks(rotation=45)\n",
    "    plt.show()\n"
   ]
  },
  {
   "cell_type": "markdown",
   "metadata": {},
   "source": [
    "###  Standardization 표준화 함수"
   ]
  },
  {
   "cell_type": "code",
   "execution_count": null,
   "metadata": {},
   "outputs": [],
   "source": [
    "def Standardization(df):\n",
    "    df['Unnamed: 4'] = (df['Unnamed: 4'] - df['Unnamed: 4'].mean())/df['Unnamed: 4'].std()\n",
    "    return df['Unnamed: 4']"
   ]
  },
  {
   "cell_type": "markdown",
   "metadata": {},
   "source": [
    "### 데이터 분류"
   ]
  },
  {
   "cell_type": "code",
   "execution_count": null,
   "metadata": {},
   "outputs": [],
   "source": [
    "def data(dataframe):\n",
    "    dataframe.drop(['Unnamed: 5','Unnamed: 6'], axis=1)\n",
    "    a = dataframe.loc[dataframe['Unnamed: 2']=='2005']\n",
    "    b = dataframe.loc[dataframe['Unnamed: 2']=='2010']\n",
    "    c = dataframe.loc[dataframe['Unnamed: 2']=='2015']\n",
    "    d = dataframe.loc[dataframe['Unnamed: 2']=='2017']\n",
    "    return a,b,c,d,pd.concat([a,b,c,d])"
   ]
  },
  {
   "cell_type": "code",
   "execution_count": null,
   "metadata": {},
   "outputs": [],
   "source": [
    "a,b,c,d,co2_1 = data(co2_1)\n",
    "a1,b1,c1,d1,co2_2 = data(co2_2)\n",
    "e,f,g,h,use = data(use)"
   ]
  },
  {
   "cell_type": "code",
   "execution_count": null,
   "metadata": {},
   "outputs": [],
   "source": [
    "CO2 = [a,b,c,d,a1,b1,c1,d1]\n",
    "USE = [e,f,g,h]\n",
    "\n",
    "for i in CO2:\n",
    "    i['Unnamed: 4'] = i['Unnamed: 4'].apply(pd.to_numeric)\n",
    "    i['Unnamed: 4'] = Standardization(i)\n",
    "for i in USE:\n",
    "    i['Unnamed: 4'] = i['Unnamed: 4'].apply(pd.to_numeric)\n",
    "    i['Unnamed: 4'] = Standardization(i)"
   ]
  },
  {
   "cell_type": "code",
   "execution_count": null,
   "metadata": {},
   "outputs": [],
   "source": [
    "print('Emissions (thousand metric tons of carbon dioxide)')\n",
    "#graph(a,b,c,d) "
   ]
  },
  {
   "cell_type": "code",
   "execution_count": null,
   "metadata": {},
   "outputs": [],
   "source": [
    "print('Emissions per capita (metric tons of carbon dioxide)')\n",
    "#graph(a1,b1,c1,d1)"
   ]
  },
  {
   "cell_type": "code",
   "execution_count": null,
   "metadata": {},
   "outputs": [],
   "source": [
    "print('Internet Usage')\n",
    "#graph(e,f,g,h)"
   ]
  },
  {
   "cell_type": "markdown",
   "metadata": {},
   "source": [
    "#### 2005 2010 2015 2017 나라 인구별 이산화탄소 방출"
   ]
  },
  {
   "cell_type": "code",
   "execution_count": null,
   "metadata": {},
   "outputs": [],
   "source": [
    "from numpy import dot\n",
    "from numpy.linalg import norm\n",
    "def cos_sim(A, B):\n",
    "       return dot(A, B)/(norm(A)*norm(B))"
   ]
  },
  {
   "cell_type": "code",
   "execution_count": null,
   "metadata": {},
   "outputs": [],
   "source": [
    "def country(df1,df2):\n",
    "    country = []\n",
    "    for i  in df1['%s'%df1.columns[1]]: \n",
    "        for j in df2['%s'%df2.columns[1]]: \n",
    "            if i==j:\n",
    "                country.append(i)\n",
    "                #country = {'country':country}\n",
    "                #country = pd.DataFrame(country)\n",
    "    return country  "
   ]
  },
  {
   "cell_type": "code",
   "execution_count": null,
   "metadata": {},
   "outputs": [],
   "source": [
    "CO2 = [a,b,c,d,a1,b1,c1,d1]\n",
    "USE = [e,f,g,h]"
   ]
  },
  {
   "cell_type": "code",
   "execution_count": null,
   "metadata": {},
   "outputs": [],
   "source": [
    "country_len = []\n",
    "countries = []\n",
    "for i,v in enumerate(CO2):\n",
    "    for j,k in enumerate(USE):\n",
    "        countries_ = country(v,k) #변수에 비교값 나라명 데이터 저장\n",
    "        countries.append(country(v,k)) #배열에 나라명 데이터 저장 \n",
    "        country_len.append(len(countries_)) #각 길이데이터를 저장"
   ]
  },
  {
   "cell_type": "code",
   "execution_count": null,
   "metadata": {},
   "outputs": [],
   "source": [
    "print(country_len,end=\" \")"
   ]
  },
  {
   "cell_type": "code",
   "execution_count": null,
   "metadata": {},
   "outputs": [],
   "source": [
    "min_idx = []\n",
    "for i in range(len(countries)):\n",
    "    if min(country_len) == country_len[i]:\n",
    "        min_idx.append(i)\n",
    "print('최소 동일 개수',min(country_len))\n",
    "print('최소 동일 개수를 같는 조합 인덱스 ',min_idx)"
   ]
  },
  {
   "cell_type": "code",
   "execution_count": null,
   "metadata": {},
   "outputs": [],
   "source": [
    "#len(countries),len(country_len)"
   ]
  },
  {
   "cell_type": "code",
   "execution_count": null,
   "metadata": {},
   "outputs": [],
   "source": [
    "#최소동일개수(136)을 갖는 인덱스와 그에 해당하는 국가명이 같은지\n",
    "for i in range(len(min_idx)-1):\n",
    "    if countries[min_idx[i]]==countries[min_idx[i+1]]:\n",
    "        print(min_idx[i],min_idx[i+1],end=\" , \")"
   ]
  },
  {
   "cell_type": "code",
   "execution_count": null,
   "metadata": {},
   "outputs": [],
   "source": [
    "print('해당 나라를 기준으로 데이터 경량화 진행')\n",
    "country = countries[0] #최소공통국가 리스트중 아무거나 넣어도 성립하기 때문에 경량화 과정\n",
    "country = {'country':country}\n",
    "country = pd.DataFrame(country)\n",
    "country"
   ]
  },
  {
   "cell_type": "code",
   "execution_count": null,
   "metadata": {},
   "outputs": [],
   "source": [
    "def size_(sizing, df):  \n",
    "    df_country = df.columns[1]#국가명\n",
    "    size_col = sizing.columns[0]#country컬럼\n",
    "    return pd.merge(sizing,df,left_on='%s'%size_col,right_on='%s'%df_country)"
   ]
  },
  {
   "cell_type": "code",
   "execution_count": null,
   "metadata": {},
   "outputs": [],
   "source": [
    "print('경량화 전',len(a))"
   ]
  },
  {
   "cell_type": "code",
   "execution_count": null,
   "metadata": {},
   "outputs": [],
   "source": [
    "a = size_(country,a)\n",
    "b = size_(country,b)\n",
    "c = size_(country,c)\n",
    "d = size_(country,d)\n",
    "a1 = size_(country,a1)\n",
    "b1 = size_(country,b1)\n",
    "c1 = size_(country,c1)\n",
    "d1 = size_(country,d1)\n",
    "\n",
    "\n",
    "e = size_(country,e)\n",
    "f = size_(country,f)\n",
    "g = size_(country,g)\n",
    "h = size_(country,h)"
   ]
  },
  {
   "cell_type": "code",
   "execution_count": null,
   "metadata": {},
   "outputs": [],
   "source": [
    "print('경량화 후',len(a))"
   ]
  },
  {
   "cell_type": "markdown",
   "metadata": {},
   "source": [
    "## co2와 internet usage 비교 함수"
   ]
  },
  {
   "cell_type": "code",
   "execution_count": null,
   "metadata": {},
   "outputs": [],
   "source": [
    "def similarity(i,j):\n",
    "    result = pd.merge(i,j,left_on='CO2 emission estimates',right_on='Internet Usage')\n",
    "    return cos_sim(result['Unnamed: 4_x'],result['Unnamed: 4_y'])"
   ]
  },
  {
   "cell_type": "markdown",
   "metadata": {},
   "source": [
    "## co2 특성 내에서 비교함수"
   ]
  },
  {
   "cell_type": "code",
   "execution_count": null,
   "metadata": {},
   "outputs": [],
   "source": [
    "def a_similarity(i,j):\n",
    "    result = pd.merge(i,j,left_on='CO2 emission estimates',right_on='CO2 emission estimates')\n",
    "    #result = result.drop('Internet Usage',axis=1)\n",
    "    return cos_sim(result['Unnamed: 4_x'].astype('float'),result['Unnamed: 4_y'].astype('float'))"
   ]
  },
  {
   "cell_type": "code",
   "execution_count": null,
   "metadata": {},
   "outputs": [],
   "source": [
    "CO2 = [a,b,c,d,a1,b1,c1,d1]\n",
    "USE = [e,f,g,h]"
   ]
  },
  {
   "cell_type": "markdown",
   "metadata": {},
   "source": [
    "### co2 특성 내 유사도"
   ]
  },
  {
   "cell_type": "code",
   "execution_count": null,
   "metadata": {},
   "outputs": [],
   "source": [
    "mean_ = []\n",
    "for i,v in enumerate(CO2_1):\n",
    "    for j,k in enumerate(CO2_2):\n",
    "        v=v[['CO2 emission estimates','Unnamed: 4']]\n",
    "        k=k[['CO2 emission estimates','Unnamed: 4']]\n",
    "        print(a_similarity(v,k),i,j)\n",
    "        mean_.append(a_similarity(v,k))\n",
    "simil_mean = sum(mean_)/len(mean_)\n",
    "print(simil_mean,'co2 특성 내 유사도 평균')"
   ]
  },
  {
   "cell_type": "markdown",
   "metadata": {},
   "source": [
    "## co2와 internet usage 유사도"
   ]
  },
  {
   "cell_type": "code",
   "execution_count": null,
   "metadata": {},
   "outputs": [],
   "source": [
    "mean_ = []\n",
    "for i,v in enumerate(CO2):#참조해서 코드구현\n",
    "    for j,k in enumerate(USE):\n",
    "        v=v[['CO2 emission estimates','Unnamed: 4']]\n",
    "        k=k[['Internet Usage','Unnamed: 4']]\n",
    "        print(similarity(v,k),i,j)\n",
    "        mean_.append(similarity(v,k))\n",
    "simil_mean = sum(mean_)/len(mean_)#전체평균\n",
    "print(simil_mean, 'co2와 internet usage 유사도 평균')"
   ]
  },
  {
   "cell_type": "code",
   "execution_count": null,
   "metadata": {},
   "outputs": [],
   "source": []
  },
  {
   "cell_type": "code",
   "execution_count": null,
   "metadata": {},
   "outputs": [],
   "source": []
  },
  {
   "cell_type": "code",
   "execution_count": null,
   "metadata": {},
   "outputs": [],
   "source": []
  },
  {
   "cell_type": "code",
   "execution_count": null,
   "metadata": {},
   "outputs": [],
   "source": []
  }
 ],
 "metadata": {
  "kernelspec": {
   "display_name": "Python 3",
   "language": "python",
   "name": "python3"
  },
  "language_info": {
   "codemirror_mode": {
    "name": "ipython",
    "version": 3
   },
   "file_extension": ".py",
   "mimetype": "text/x-python",
   "name": "python",
   "nbconvert_exporter": "python",
   "pygments_lexer": "ipython3",
   "version": "3.8.8"
  },
  "toc": {
   "base_numbering": 1,
   "nav_menu": {},
   "number_sections": true,
   "sideBar": true,
   "skip_h1_title": false,
   "title_cell": "Table of Contents",
   "title_sidebar": "Contents",
   "toc_cell": false,
   "toc_position": {
    "height": "calc(100% - 180px)",
    "left": "10px",
    "top": "150px",
    "width": "273.177px"
   },
   "toc_section_display": true,
   "toc_window_display": true
  }
 },
 "nbformat": 4,
 "nbformat_minor": 4
}
